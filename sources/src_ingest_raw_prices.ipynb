{
 "cells": [
  {
   "cell_type": "code",
   "execution_count": 0,
   "metadata": {
    "application/vnd.databricks.v1+cell": {
     "cellMetadata": {
      "byteLimit": 2048000,
      "rowLimit": 10000
     },
     "inputWidgets": {},
     "nuid": "b1fc7821-a1a8-4067-8e2f-c2946ba46e81",
     "showTitle": false,
     "tableResultSettingsMap": {},
     "title": ""
    }
   },
   "outputs": [
    {
     "output_type": "stream",
     "name": "stdout",
     "output_type": "stream",
     "text": [
      "Collecting yfinance\n  Downloading yfinance-0.2.65-py2.py3-none-any.whl.metadata (5.8 kB)\nRequirement already satisfied: pandas>=1.3.0 in /databricks/python3/lib/python3.11/site-packages (from yfinance) (1.5.3)\nRequirement already satisfied: numpy>=1.16.5 in /databricks/python3/lib/python3.11/site-packages (from yfinance) (1.23.5)\nRequirement already satisfied: requests>=2.31 in /databricks/python3/lib/python3.11/site-packages (from yfinance) (2.31.0)\nCollecting multitasking>=0.0.7 (from yfinance)\n  Downloading multitasking-0.0.11-py3-none-any.whl.metadata (5.5 kB)\nRequirement already satisfied: platformdirs>=2.0.0 in /databricks/python3/lib/python3.11/site-packages (from yfinance) (3.10.0)\nRequirement already satisfied: pytz>=2022.5 in /databricks/python3/lib/python3.11/site-packages (from yfinance) (2022.7)\nCollecting frozendict>=2.3.4 (from yfinance)\n  Downloading frozendict-2.4.6-py311-none-any.whl.metadata (23 kB)\nCollecting peewee>=3.16.2 (from yfinance)\n  Downloading peewee-3.18.2.tar.gz (949 kB)\n\u001B[?25l     \u001B[90m━━━━━━━━━━━━━━━━━━━━━━━━━━━━━━━━━━━━━━━━\u001B[0m \u001B[32m0.0/949.2 kB\u001B[0m \u001B[31m?\u001B[0m eta \u001B[36m-:--:--\u001B[0m\n\u001B[2K     \u001B[90m━━━━━━━━━━━━━━━━━━━━━━━━━━━━━━━━━━━━━━\u001B[0m \u001B[32m949.2/949.2 kB\u001B[0m \u001B[31m45.3 MB/s\u001B[0m eta \u001B[36m0:00:00\u001B[0m\n\u001B[?25h  Installing build dependencies: started\n  Installing build dependencies: finished with status 'done'\n  Getting requirements to build wheel: started\n  Getting requirements to build wheel: finished with status 'done'\n  Preparing metadata (pyproject.toml): started\n  Preparing metadata (pyproject.toml): finished with status 'done'\nCollecting beautifulsoup4>=4.11.1 (from yfinance)\n  Downloading beautifulsoup4-4.13.4-py3-none-any.whl.metadata (3.8 kB)\nCollecting curl_cffi>=0.7 (from yfinance)\n  Downloading curl_cffi-0.12.0-cp39-abi3-manylinux_2_17_aarch64.manylinux2014_aarch64.whl.metadata (14 kB)\nRequirement already satisfied: protobuf>=3.19.0 in /databricks/python3/lib/python3.11/site-packages (from yfinance) (5.29.3)\nCollecting websockets>=13.0 (from yfinance)\n  Downloading websockets-15.0.1-cp311-cp311-manylinux_2_17_aarch64.manylinux2014_aarch64.whl.metadata (6.8 kB)\nCollecting soupsieve>1.2 (from beautifulsoup4>=4.11.1->yfinance)\n  Downloading soupsieve-2.7-py3-none-any.whl.metadata (4.6 kB)\nRequirement already satisfied: typing-extensions>=4.0.0 in /databricks/python3/lib/python3.11/site-packages (from beautifulsoup4>=4.11.1->yfinance) (4.10.0)\nRequirement already satisfied: cffi>=1.12.0 in /databricks/python3/lib/python3.11/site-packages (from curl_cffi>=0.7->yfinance) (1.15.1)\nCollecting certifi>=2024.2.2 (from curl_cffi>=0.7->yfinance)\n  Downloading certifi-2025.7.14-py3-none-any.whl.metadata (2.4 kB)\nRequirement already satisfied: python-dateutil>=2.8.1 in /databricks/python3/lib/python3.11/site-packages (from pandas>=1.3.0->yfinance) (2.8.2)\nRequirement already satisfied: charset-normalizer<4,>=2 in /databricks/python3/lib/python3.11/site-packages (from requests>=2.31->yfinance) (2.0.4)\nRequirement already satisfied: idna<4,>=2.5 in /databricks/python3/lib/python3.11/site-packages (from requests>=2.31->yfinance) (3.4)\nRequirement already satisfied: urllib3<3,>=1.21.1 in /databricks/python3/lib/python3.11/site-packages (from requests>=2.31->yfinance) (1.26.16)\nRequirement already satisfied: pycparser in /databricks/python3/lib/python3.11/site-packages (from cffi>=1.12.0->curl_cffi>=0.7->yfinance) (2.21)\nRequirement already satisfied: six>=1.5 in /usr/lib/python3/dist-packages (from python-dateutil>=2.8.1->pandas>=1.3.0->yfinance) (1.16.0)\nDownloading yfinance-0.2.65-py2.py3-none-any.whl (119 kB)\nDownloading beautifulsoup4-4.13.4-py3-none-any.whl (187 kB)\nDownloading curl_cffi-0.12.0-cp39-abi3-manylinux_2_17_aarch64.manylinux2014_aarch64.whl (7.9 MB)\n\u001B[?25l   \u001B[90m━━━━━━━━━━━━━━━━━━━━━━━━━━━━━━━━━━━━━━━━\u001B[0m \u001B[32m0.0/7.9 MB\u001B[0m \u001B[31m?\u001B[0m eta \u001B[36m-:--:--\u001B[0m\n\u001B[2K   \u001B[90m━━━━━━━━━━━━━━━━━━━━━━━━━━━━━━━━━━━━━━━━\u001B[0m \u001B[32m7.9/7.9 MB\u001B[0m \u001B[31m118.0 MB/s\u001B[0m eta \u001B[36m0:00:00\u001B[0m\n\u001B[?25hDownloading frozendict-2.4.6-py311-none-any.whl (16 kB)\nDownloading multitasking-0.0.11-py3-none-any.whl (8.5 kB)\nDownloading websockets-15.0.1-cp311-cp311-manylinux_2_17_aarch64.manylinux2014_aarch64.whl (182 kB)\nDownloading certifi-2025.7.14-py3-none-any.whl (162 kB)\nDownloading soupsieve-2.7-py3-none-any.whl (36 kB)\nBuilding wheels for collected packages: peewee\n  Building wheel for peewee (pyproject.toml): started\n  Building wheel for peewee (pyproject.toml): finished with status 'done'\n  Created wheel for peewee: filename=peewee-3.18.2-cp311-cp311-linux_aarch64.whl size=865736 sha256=1fa179ab4e8672f90fb37d16e370dec1bfe94be3c80f4f989cd6865a35869416\n  Stored in directory: /home/spark-1dda00ad-f19d-478c-bb5f-bf/.cache/pip/wheels/28/84/61/758d1bd7b9c9d700158c8642a8aff2a9bf2e1ae69641c40784\nSuccessfully built peewee\nInstalling collected packages: peewee, multitasking, websockets, soupsieve, frozendict, certifi, curl_cffi, beautifulsoup4, yfinance\n  Attempting uninstall: certifi\n    Found existing installation: certifi 2023.7.22\n    Not uninstalling certifi at /databricks/python3/lib/python3.11/site-packages, outside environment /local_disk0/.ephemeral_nfs/envs/pythonEnv-1dda00ad-f19d-478c-bb5f-bfd01541c964\n    Can't uninstall 'certifi'. No files were found to uninstall.\nSuccessfully installed beautifulsoup4-4.13.4 certifi-2025.7.14 curl_cffi-0.12.0 frozendict-2.4.6 multitasking-0.0.11 peewee-3.18.2 soupsieve-2.7 websockets-15.0.1 yfinance-0.2.65\n\u001B[43mNote: you may need to restart the kernel using %restart_python or dbutils.library.restartPython() to use updated packages.\u001B[0m\n"
     ]
    }
   ],
   "source": [
    "!pip install yfinance"
   ]
  },
  {
   "cell_type": "code",
   "execution_count": 0,
   "metadata": {
    "application/vnd.databricks.v1+cell": {
     "cellMetadata": {
      "byteLimit": 2048000,
      "rowLimit": 10000
     },
     "inputWidgets": {},
     "nuid": "0083a6fa-0bb6-4556-86d1-25307e498785",
     "showTitle": false,
     "tableResultSettingsMap": {},
     "title": ""
    }
   },
   "outputs": [],
   "source": [
    "dbutils.library.restartPython()"
   ]
  },
  {
   "cell_type": "code",
   "execution_count": 0,
   "metadata": {
    "application/vnd.databricks.v1+cell": {
     "cellMetadata": {
      "byteLimit": 2048000,
      "rowLimit": 10000
     },
     "inputWidgets": {},
     "nuid": "afe6cf2e-7d90-4063-94b8-6fcf7a61501d",
     "showTitle": false,
     "tableResultSettingsMap": {},
     "title": ""
    }
   },
   "outputs": [],
   "source": [
    "import yfinance as yf\n",
    "import pandas as pd\n",
    "from datetime import datetime, timedelta\n",
    "import re\n",
    "import time\n",
    "from pyspark.sql.functions import regexp_replace"
   ]
  },
  {
   "cell_type": "code",
   "execution_count": 0,
   "metadata": {
    "application/vnd.databricks.v1+cell": {
     "cellMetadata": {
      "byteLimit": 2048000,
      "rowLimit": 10000
     },
     "inputWidgets": {},
     "nuid": "c3464d1a-1c09-474d-94b3-5999f33f0d61",
     "showTitle": false,
     "tableResultSettingsMap": {},
     "title": ""
    }
   },
   "outputs": [],
   "source": [
    "TICKER_TABLE = \"finance_catalog.db_landing.src_raw_index_keys\"\n",
    "TABLE_NAME = \"finance_catalog.db_landing.src_raw_stock_prices\"\n",
    "DEFAULT_LOOKBACK_DAYS = 365\n",
    "BATCH_SIZE = 100"
   ]
  },
  {
   "cell_type": "code",
   "execution_count": 0,
   "metadata": {
    "application/vnd.databricks.v1+cell": {
     "cellMetadata": {
      "byteLimit": 2048000,
      "rowLimit": 10000
     },
     "inputWidgets": {},
     "nuid": "9b8d995c-596e-4eaa-aeba-49be7ce859eb",
     "showTitle": false,
     "tableResultSettingsMap": {},
     "title": ""
    }
   },
   "outputs": [],
   "source": [
    "tickers = (\n",
    "    spark\n",
    "        .table(TICKER_TABLE)\n",
    "        .select(regexp_replace(\"ticker\", \"\\\\.\", \"-\").alias(\"ticker\"))\n",
    "        .toPandas()[\"ticker\"]\n",
    "        .tolist()\n",
    ")"
   ]
  },
  {
   "cell_type": "code",
   "execution_count": 0,
   "metadata": {
    "application/vnd.databricks.v1+cell": {
     "cellMetadata": {
      "byteLimit": 2048000,
      "rowLimit": 10000
     },
     "inputWidgets": {},
     "nuid": "ca82db56-cc54-4a22-920d-d0edf474583d",
     "showTitle": false,
     "tableResultSettingsMap": {},
     "title": ""
    }
   },
   "outputs": [],
   "source": [
    "def chunk_list(lst, size):\n",
    "    for i in range(0, len(lst), size):\n",
    "        yield lst[i:i + size]"
   ]
  },
  {
   "cell_type": "code",
   "execution_count": 0,
   "metadata": {
    "application/vnd.databricks.v1+cell": {
     "cellMetadata": {
      "byteLimit": 2048000,
      "rowLimit": 10000
     },
     "inputWidgets": {},
     "nuid": "79120aaf-d495-4e3c-a7e6-6a339625c141",
     "showTitle": false,
     "tableResultSettingsMap": {},
     "title": ""
    }
   },
   "outputs": [],
   "source": [
    "ticker_data = []\n",
    "\n",
    "for batch in chunk_list(tickers, BATCH_SIZE):\n",
    "    for ticker in batch:\n",
    " \n",
    "        max_date_row = spark.sql(f\"SELECT MAX(date) as max_date FROM {TABLE_NAME} WHERE ticker = '{ticker}' GROUP BY ticker\").collect()\n",
    "        max_date = max_date_row[0]['max_date'] if max_date_row else None\n",
    "        start_date = max_date if max_date else datetime.now() - timedelta(days=DEFAULT_LOOKBACK_DAYS)\n",
    "\n",
    "        df = yf.download(ticker, start=start_date, end=datetime.now() + timedelta(days=1), auto_adjust=True)\n",
    "        df = df.reset_index()\n",
    "        df.columns = df.columns.droplevel(1)\n",
    "        df.columns = [re.sub(r\"\\W+\", \"_\", col).strip(\"_\").lower() for col in df.columns]\n",
    "        df['ticker'] = ticker\n",
    "        df['id'] = ticker + df['date'].dt.strftime('%Y%m%d')\n",
    "        df.set_index('id', inplace=True)\n",
    "        df.reset_index(inplace=True)\n",
    "        ticker_data.append(df)\n",
    "\n",
    "        time.sleep(1)     \n",
    "\n",
    "    if ticker_data:\n",
    "        batch_df = pd.concat(ticker_data, ignore_index=True)\n",
    "        ticker_data.clear()\n",
    "\n",
    "    batch_df['volume'] = batch_df['volume'].astype(float)\n",
    "\n",
    "    (\n",
    "        spark\n",
    "            .createDataFrame(batch_df)\n",
    "            .orderBy([\"ticker\", \"date\"], ascending=[True, False])\n",
    "            .write\n",
    "            .format(\"delta\")\n",
    "            .mode(\"append\")\n",
    "            .saveAsTable(TABLE_NAME)\n",
    "    )"
   ]
  },
  {
   "cell_type": "code",
   "execution_count": 0,
   "metadata": {
    "application/vnd.databricks.v1+cell": {
     "cellMetadata": {
      "byteLimit": 2048000,
      "rowLimit": 10000
     },
     "inputWidgets": {},
     "nuid": "bd3bb086-65dc-455b-82ac-4606be1dfa92",
     "showTitle": false,
     "tableResultSettingsMap": {},
     "title": ""
    }
   },
   "outputs": [],
   "source": [
    "(\n",
    "    spark\n",
    "        .table(TABLE_NAME)\n",
    "        .dropDuplicates(subset=['ticker', 'date'])\n",
    "        .orderBy(['ticker', 'date'], ascending=[True, False])\n",
    "        .write\n",
    "        .format(\"delta\")\n",
    "        .mode(\"overwrite\")\n",
    "        .saveAsTable(TABLE_NAME)\n",
    ")"
   ]
  }
 ],
 "metadata": {
  "application/vnd.databricks.v1+notebook": {
   "computePreferences": null,
   "dashboards": [],
   "environmentMetadata": {
    "base_environment": "",
    "environment_version": "2"
   },
   "inputWidgetPreferences": null,
   "language": "python",
   "notebookMetadata": {
    "pythonIndentUnit": 4
   },
   "notebookName": "src_ingest_raw_prices",
   "widgets": {}
  },
  "language_info": {
   "name": "python"
  }
 },
 "nbformat": 4,
 "nbformat_minor": 0
}