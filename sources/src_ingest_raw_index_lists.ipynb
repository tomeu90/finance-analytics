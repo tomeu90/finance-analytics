{
 "cells": [
  {
   "cell_type": "code",
   "execution_count": 0,
   "metadata": {
    "application/vnd.databricks.v1+cell": {
     "cellMetadata": {
      "byteLimit": 2048000,
      "rowLimit": 10000
     },
     "inputWidgets": {},
     "nuid": "d8a1840b-5842-4a4d-88f5-9a5f7063c600",
     "showTitle": false,
     "tableResultSettingsMap": {},
     "title": ""
    }
   },
   "outputs": [],
   "source": [
    "!pip install pandas lxml"
   ]
  },
  {
   "cell_type": "code",
   "execution_count": 0,
   "metadata": {
    "application/vnd.databricks.v1+cell": {
     "cellMetadata": {
      "byteLimit": 2048000,
      "rowLimit": 10000
     },
     "inputWidgets": {},
     "nuid": "ecd09fa6-03cb-47c2-9974-d7e4083a0bdf",
     "showTitle": false,
     "tableResultSettingsMap": {},
     "title": ""
    }
   },
   "outputs": [],
   "source": [
    "dbutils.library.restartPython()"
   ]
  },
  {
   "cell_type": "code",
   "execution_count": 0,
   "metadata": {
    "application/vnd.databricks.v1+cell": {
     "cellMetadata": {
      "byteLimit": 2048000,
      "rowLimit": 10000
     },
     "inputWidgets": {},
     "nuid": "4df30dde-39e8-481c-9ffd-54c2ddcc0d89",
     "showTitle": false,
     "tableResultSettingsMap": {},
     "title": ""
    }
   },
   "outputs": [],
   "source": [
    "import pandas as pd\n",
    "import re"
   ]
  },
  {
   "cell_type": "code",
   "execution_count": 0,
   "metadata": {
    "application/vnd.databricks.v1+cell": {
     "cellMetadata": {
      "byteLimit": 2048000,
      "rowLimit": 10000
     },
     "inputWidgets": {},
     "nuid": "52a232f0-e1da-4ec1-8917-dbdf4bb711fc",
     "showTitle": false,
     "tableResultSettingsMap": {},
     "title": ""
    }
   },
   "outputs": [],
   "source": [
    "SP_TABLE_NAME = \"finance_catalog.db_landing.src_raw_sp_index\"\n",
    "url = \"https://en.wikipedia.org/wiki/List_of_S%26P_500_companies\"\n",
    "\n",
    "tables = {}\n",
    "tables = pd.read_html(url)\n",
    "sp_df = tables[0]\n",
    "sp_df.columns = [re.sub(r\"\\W+\", \"_\", col).strip(\"_\").lower() for col in sp_df.columns]\n",
    "\n",
    "(\n",
    "    spark\n",
    "        .createDataFrame(sp_df)\n",
    "        .write\n",
    "        .format(\"delta\")\n",
    "        .mode(\"overwrite\")\n",
    "        .saveAsTable(SP_TABLE_NAME)\n",
    ")"
   ]
  },
  {
   "cell_type": "code",
   "execution_count": 0,
   "metadata": {
    "application/vnd.databricks.v1+cell": {
     "cellMetadata": {
      "byteLimit": 2048000,
      "rowLimit": 10000
     },
     "inputWidgets": {},
     "nuid": "ca49b29b-99cb-4f5a-9ba1-9179078f3bb5",
     "showTitle": false,
     "tableResultSettingsMap": {},
     "title": ""
    }
   },
   "outputs": [],
   "source": [
    "DJIA_TABLE_NAME = \"finance_catalog.db_landing.src_raw_djia_index\"\n",
    "url = \"https://en.wikipedia.org/wiki/Dow_Jones_Industrial_Average\"\n",
    "\n",
    "tables = {}\n",
    "tables = pd.read_html(url)\n",
    "djia_df = tables[2]\n",
    "djia_df.columns = [re.sub(r\"\\W+\", \"_\", col).strip(\"_\").lower() for col in djia_df.columns]\n",
    "\n",
    "(\n",
    "    spark\n",
    "        .createDataFrame(djia_df)\n",
    "        .write\n",
    "        .format(\"delta\")\n",
    "        .mode(\"overwrite\")\n",
    "        .saveAsTable(DJIA_TABLE_NAME)\n",
    ")"
   ]
  },
  {
   "cell_type": "code",
   "execution_count": 0,
   "metadata": {
    "application/vnd.databricks.v1+cell": {
     "cellMetadata": {
      "byteLimit": 2048000,
      "rowLimit": 10000
     },
     "inputWidgets": {},
     "nuid": "4f5e8c62-7087-4250-8d5e-01f367680cce",
     "showTitle": false,
     "tableResultSettingsMap": {},
     "title": ""
    }
   },
   "outputs": [],
   "source": [
    "RSL_TABLE_NAME = \"finance_catalog.db_landing.src_raw_russell_index\"\n",
    "url = \"https://en.wikipedia.org/wiki/Russell_1000_Index#Components\"\n",
    "\n",
    "tables = {}\n",
    "tables = pd.read_html(url)\n",
    "rsl_df = tables[3]\n",
    "rsl_df.columns = [re.sub(r\"\\W+\", \"_\", col).strip(\"_\").lower() for col in rsl_df.columns]\n",
    "\n",
    "(\n",
    "    spark\n",
    "        .createDataFrame(rsl_df)\n",
    "        .write\n",
    "        .format(\"delta\")\n",
    "        .mode(\"overwrite\")\n",
    "        .saveAsTable(RSL_TABLE_NAME)\n",
    ")"
   ]
  },
  {
   "cell_type": "code",
   "execution_count": 0,
   "metadata": {
    "application/vnd.databricks.v1+cell": {
     "cellMetadata": {
      "byteLimit": 2048000,
      "rowLimit": 10000
     },
     "inputWidgets": {},
     "nuid": "4962b387-4b76-43ed-a707-4f6db194c261",
     "showTitle": false,
     "tableResultSettingsMap": {},
     "title": ""
    }
   },
   "outputs": [],
   "source": [
    "NSDQ_TABLE_NAME = \"finance_catalog.db_landing.src_raw_nasdaq_index\"\n",
    "url = \"https://en.wikipedia.org/wiki/Nasdaq-100#Components\"\n",
    "\n",
    "tables = {}\n",
    "tables = pd.read_html(url)\n",
    "nsdq_df = tables[4]\n",
    "nsdq_df.columns = [re.sub(r\"\\W+\", \"_\", col).strip(\"_\").lower() for col in nsdq_df.columns]\n",
    "\n",
    "(\n",
    "    spark\n",
    "        .createDataFrame(nsdq_df)\n",
    "        .write\n",
    "        .format(\"delta\")\n",
    "        .mode(\"overwrite\")\n",
    "        .saveAsTable(NSDQ_TABLE_NAME)\n",
    ")"
   ]
  },
  {
   "cell_type": "code",
   "execution_count": 0,
   "metadata": {
    "application/vnd.databricks.v1+cell": {
     "cellMetadata": {},
     "inputWidgets": {},
     "nuid": "bc500cc2-2cbc-4d57-b36f-4574cf20689c",
     "showTitle": false,
     "tableResultSettingsMap": {},
     "title": ""
    }
   },
   "outputs": [],
   "source": [
    "# spark.table(TABLE_NAME).write.mode(\"overwrite\").parquet(STORAGE_URL) "
   ]
  }
 ],
 "metadata": {
  "application/vnd.databricks.v1+notebook": {
   "computePreferences": null,
   "dashboards": [],
   "environmentMetadata": {
    "base_environment": "",
    "environment_version": "2"
   },
   "inputWidgetPreferences": null,
   "language": "python",
   "notebookMetadata": {
    "pythonIndentUnit": 4
   },
   "notebookName": "src_ingest_raw_index_lists",
   "widgets": {}
  },
  "language_info": {
   "name": "python"
  }
 },
 "nbformat": 4,
 "nbformat_minor": 0
}
