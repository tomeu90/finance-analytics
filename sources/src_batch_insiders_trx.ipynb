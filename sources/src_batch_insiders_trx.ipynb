{
 "cells": [
  {
   "cell_type": "code",
   "execution_count": 0,
   "metadata": {
    "application/vnd.databricks.v1+cell": {
     "cellMetadata": {
      "byteLimit": 2048000,
      "rowLimit": 10000
     },
     "inputWidgets": {},
     "nuid": "51943756-fb75-4c68-818c-ff78b5608596",
     "showTitle": false,
     "tableResultSettingsMap": {},
     "title": ""
    }
   },
   "outputs": [],
   "source": [
    "!pip install BeautifulSoup4 lxml html5lib"
   ]
  },
  {
   "cell_type": "code",
   "execution_count": 0,
   "metadata": {
    "application/vnd.databricks.v1+cell": {
     "cellMetadata": {
      "byteLimit": 2048000,
      "rowLimit": 10000
     },
     "inputWidgets": {},
     "nuid": "c3ac317c-5c1f-4e68-9295-08bfa02e5d89",
     "showTitle": false,
     "tableResultSettingsMap": {},
     "title": ""
    }
   },
   "outputs": [],
   "source": [
    "dbutils.library.restartPython() "
   ]
  },
  {
   "cell_type": "code",
   "execution_count": 0,
   "metadata": {
    "application/vnd.databricks.v1+cell": {
     "cellMetadata": {
      "byteLimit": 2048000,
      "rowLimit": 10000
     },
     "inputWidgets": {},
     "nuid": "ea85518f-e516-4731-9f66-e7419ef9fc69",
     "showTitle": false,
     "tableResultSettingsMap": {},
     "title": ""
    }
   },
   "outputs": [],
   "source": [
    "import pandas as pd\n",
    "import requests\n",
    "from bs4 import BeautifulSoup\n",
    "import re\n",
    "import io\n",
    "from pyspark.sql.functions import regexp_replace\n",
    "from pyspark.sql.types import StructType, StructField, StringType, DoubleType"
   ]
  },
  {
   "cell_type": "code",
   "execution_count": 0,
   "metadata": {
    "application/vnd.databricks.v1+cell": {
     "cellMetadata": {
      "byteLimit": 2048000,
      "rowLimit": 10000
     },
     "inputWidgets": {},
     "nuid": "fbc208d1-a730-4f44-832d-e23eb452ab52",
     "showTitle": false,
     "tableResultSettingsMap": {},
     "title": ""
    }
   },
   "outputs": [],
   "source": [
    "SRC_TABLE_NAME = \"finance_catalog.db_landing.src_raw_index_keys\"\n",
    "TABLE_NAME = \"finance_catalog.db_landing.src_raw_insiders_trx\"\n",
    "\n",
    "schema = StructType([\n",
    "    StructField(\"filing\", StringType(), True),\n",
    "    StructField(\"symbol\", StringType(), True),\n",
    "    StructField(\"security\", StringType(), True),\n",
    "    StructField(\"reporting_name\", StringType(), True),\n",
    "    StructField(\"relationship\", StringType(), True),\n",
    "    StructField(\"trans_date\", StringType(), True),\n",
    "    StructField(\"purchase_sale\", StringType(), True),\n",
    "    StructField(\"shares\", DoubleType(), True),\n",
    "    StructField(\"price\", DoubleType(), True),\n",
    "    StructField(\"amount\", DoubleType(), True),\n",
    "    StructField(\"d_i\", StringType(), True)\n",
    "])"
   ]
  },
  {
   "cell_type": "code",
   "execution_count": 0,
   "metadata": {
    "application/vnd.databricks.v1+cell": {
     "cellMetadata": {
      "byteLimit": 2048000,
      "rowLimit": 10000
     },
     "inputWidgets": {},
     "nuid": "56705a8f-7cc2-46aa-a7e4-4c5dd8fb5987",
     "showTitle": false,
     "tableResultSettingsMap": {},
     "title": ""
    }
   },
   "outputs": [],
   "source": [
    "index = (\n",
    "    spark\n",
    "        .table(SRC_TABLE_NAME)\n",
    "        .select(\"ticker\")\n",
    "        .toPandas()[\"ticker\"]\n",
    "        .tolist()\n",
    ")"
   ]
  },
  {
   "cell_type": "code",
   "execution_count": 0,
   "metadata": {
    "application/vnd.databricks.v1+cell": {
     "cellMetadata": {
      "byteLimit": 2048000,
      "rowLimit": 10000
     },
     "inputWidgets": {},
     "nuid": "33b151a9-c24f-4540-83ce-a703025ff154",
     "showTitle": false,
     "tableResultSettingsMap": {},
     "title": ""
    }
   },
   "outputs": [],
   "source": [
    "headers = {\n",
    "    'User-Agent': 'Mozilla/5.0 (Windows NT 10.0; Win64; x64) AppleWebKit/537.36 '\n",
    "                  '(KHTML, like Gecko) Chrome/126.0.0.0 Safari/537.36',\n",
    "    'Accept': 'text/html,application/xhtml+xml,application/xml;q=0.9,image/webp,*/*;q=0.8',\n",
    "    'Accept-Encoding': 'gzip, deflate, br',\n",
    "    'Accept-Language': 'en-US,en;q=0.9',\n",
    "    'Connection': 'keep-alive',\n",
    "    'Referer': 'https://www.dataroma.com/',\n",
    "    'Upgrade-Insecure-Requests': '1',\n",
    "}\n",
    "\n",
    "results = []\n",
    "data_frames = []\n",
    "batch_ini = 0\n",
    "batch_end = 0\n",
    "\n",
    "for ticker in index[batch_ini:batch_end]:\n",
    "\n",
    "    session = requests.Session()\n",
    "    session.headers.update(headers)\n",
    "\n",
    "    results = []\n",
    "    data_frames = []\n",
    "\n",
    "    base_url = f\"https://www.dataroma.com/m/ins/ins.php?t=d&am=0&sym={ticker}&o=fd&d=d\"\n",
    "    response = session.get(base_url)\n",
    "    soup = BeautifulSoup(response.text, 'html.parser')\n",
    "\n",
    "    pages_div = soup.find(\"div\", id=\"pages\")\n",
    "\n",
    "    print(response.status_code)\n",
    "    print(response.text[:1000]) \n",
    "\n",
    "    if pages_div is None:\n",
    "\n",
    "        tables = pd.read_html(response.text, flavor='lxml')\n",
    "        print(f\"{len(tables)} tables found.\")\n",
    "        trx_table = tables[2]\n",
    "\n",
    "        if not trx_table.empty:\n",
    "            results.append(trx_table)\n",
    "\n",
    "    else:\n",
    "\n",
    "        links = pages_div.find_all('a')\n",
    "        pages = [a.get_text() for a in links if a.get_text().strip().isdigit()]\n",
    "\n",
    "        for page in pages:\n",
    "\n",
    "            url = f\"{base_url}&L={page}\"\n",
    "\n",
    "            response = session.get(url)\n",
    "            tables = pd.read_html(response.text, flavor='lxml') \n",
    "            trx_table = tables[2]\n",
    "\n",
    "            results.append(trx_table)\n",
    "\n",
    "    if results:\n",
    "        df = pd.concat(results, ignore_index=True)\n",
    "        data_frames.append(df)\n",
    "        results.clear()\n",
    "\n",
    "if data_frames:\n",
    "    df = pd.concat(data_frames, ignore_index=True)\n",
    "    df.columns = [re.sub(r\"\\W+\", \"_\", col).strip(\"_\").lower() for col in df.columns]\n",
    "\n",
    "(\n",
    "    spark\n",
    "        .createDataFrame(df, schema=schema)\n",
    "        .write\n",
    "        .format(\"delta\")\n",
    "        .mode(\"append\")\n",
    "        .saveAsTable(TABLE_NAME)\n",
    ")"
   ]
  }
 ],
 "metadata": {
  "application/vnd.databricks.v1+notebook": {
   "computePreferences": null,
   "dashboards": [],
   "environmentMetadata": {
    "base_environment": "",
    "environment_version": "2"
   },
   "inputWidgetPreferences": null,
   "language": "python",
   "notebookMetadata": {
    "pythonIndentUnit": 4
   },
   "notebookName": "src_batch_insiders_trx",
   "widgets": {}
  },
  "language_info": {
   "name": "python"
  }
 },
 "nbformat": 4,
 "nbformat_minor": 0
}
