{
 "cells": [
  {
   "cell_type": "code",
   "execution_count": 0,
   "metadata": {
    "application/vnd.databricks.v1+cell": {
     "cellMetadata": {
      "byteLimit": 2048000,
      "rowLimit": 10000
     },
     "inputWidgets": {},
     "nuid": "4757fa18-655a-49a0-8cf5-43c71fcdda67",
     "showTitle": false,
     "tableResultSettingsMap": {},
     "title": ""
    }
   },
   "outputs": [],
   "source": [
    "from pyspark.sql import functions as F\n",
    "from pyspark.sql.functions import col, isnull\n",
    "import pandas as pd\n",
    "import requests\n",
    "import json"
   ]
  },
  {
   "cell_type": "code",
   "execution_count": 0,
   "metadata": {
    "application/vnd.databricks.v1+cell": {
     "cellMetadata": {
      "byteLimit": 2048000,
      "rowLimit": 10000
     },
     "inputWidgets": {},
     "nuid": "57bb5ed9-485d-460d-b1bc-3552b6872d2e",
     "showTitle": false,
     "tableResultSettingsMap": {},
     "title": ""
    }
   },
   "outputs": [],
   "source": [
    "TABLE_NAME = \"finance_catalog.db_landing.src_raw_index_keys\""
   ]
  },
  {
   "cell_type": "code",
   "execution_count": 0,
   "metadata": {
    "application/vnd.databricks.v1+cell": {
     "cellMetadata": {
      "byteLimit": 2048000,
      "rowLimit": 10000
     },
     "inputWidgets": {},
     "nuid": "f981c351-062c-46bb-b375-6e9be78d8862",
     "showTitle": false,
     "tableResultSettingsMap": {},
     "title": ""
    }
   },
   "outputs": [],
   "source": [
    "base_url = \"https://www.sec.gov/files/company_tickers_exchange.json\"\n",
    "\n",
    "headers = {\n",
    "    \"User-Agent\": \"hello@hotmail.com\",\n",
    "    \"Accept-Encoding\": \"gzip, deflate\"\n",
    "}\n",
    "\n",
    "response = requests.get(base_url, headers=headers)\n",
    "data = response.json()\n",
    "\n",
    "columns = data['fields']\n",
    "values = data['data']"
   ]
  },
  {
   "cell_type": "code",
   "execution_count": 0,
   "metadata": {
    "application/vnd.databricks.v1+cell": {
     "cellMetadata": {
      "byteLimit": 2048000,
      "rowLimit": 10000
     },
     "inputWidgets": {},
     "nuid": "bbeac551-41f0-4f68-8fca-bcac967f47a9",
     "showTitle": false,
     "tableResultSettingsMap": {},
     "title": ""
    }
   },
   "outputs": [],
   "source": [
    "df = pd.DataFrame(values, columns=columns)\n",
    "\n",
    "spark_df = (\n",
    "  spark\n",
    "      .createDataFrame(df)\n",
    "      .select(\n",
    "        F.lpad(F.col(\"cik\"), 10, '0').alias(\"cik\"),\n",
    "        F.regexp_replace(\"ticker\", \"-\", \".\").alias(\"ticker\"), \n",
    "        \"name\", \n",
    "        \"exchange\"\n",
    "        )\n",
    ")"
   ]
  },
  {
   "cell_type": "code",
   "execution_count": 0,
   "metadata": {
    "application/vnd.databricks.v1+cell": {
     "cellMetadata": {
      "byteLimit": 2048000,
      "rowLimit": 10000
     },
     "inputWidgets": {},
     "nuid": "84529598-8654-4aee-a537-0bd8f4182f14",
     "showTitle": false,
     "tableResultSettingsMap": {},
     "title": ""
    }
   },
   "outputs": [],
   "source": [
    "sic_data = []\n",
    "\n",
    "for row in spark_df.select(\"cik\", \"ticker\").collect():\n",
    "    cik = row[\"cik\"]\n",
    "    ticker = row[\"ticker\"]\n",
    "    url = f\"https://data.sec.gov/submissions/CIK{cik}.json\"\n",
    "    response = requests.get(url, headers=headers)\n",
    "    \n",
    "    if response.status_code == 200:\n",
    "        data = response.json()\n",
    "        sic_data.append((cik, ticker, data.get(\"sic\", None)))\n",
    "    else:\n",
    "        sic_data.append((cik, ticker, None))\n",
    "\n",
    "sic_df = spark.createDataFrame(sic_data, [\"cik\", \"ticker\", \"sic\"])\n",
    "\n",
    "(\n",
    "    spark_df\n",
    "            .join(sic_df, on=[\"cik\", \"ticker\"], how=\"left\")\n",
    "            .write\n",
    "            .format(\"delta\")\n",
    "            .mode(\"overwrite\")\n",
    "            .saveAsTable(TABLE_NAME)\n",
    ")"
   ]
  }
 ],
 "metadata": {
  "application/vnd.databricks.v1+notebook": {
   "computePreferences": null,
   "dashboards": [],
   "environmentMetadata": {
    "base_environment": "",
    "environment_version": "2"
   },
   "inputWidgetPreferences": null,
   "language": "python",
   "notebookMetadata": {
    "pythonIndentUnit": 4
   },
   "notebookName": "src_ingest_raw_index_keys",
   "widgets": {}
  },
  "language_info": {
   "name": "python"
  }
 },
 "nbformat": 4,
 "nbformat_minor": 0
}